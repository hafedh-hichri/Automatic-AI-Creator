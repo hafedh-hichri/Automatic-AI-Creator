{
 "cells": [
  {
   "cell_type": "markdown",
   "metadata": {
    "id": "sPIN_hLvEdmn"
   },
   "source": [
    "# importing the data"
   ]
  },
  {
   "cell_type": "code",
   "execution_count": null,
   "metadata": {
    "id": "q0HMcT0zG6ET"
   },
   "outputs": [],
   "source": [
    "# https://drive.google.com/drive/folders/1P0fxjEi2w5dfQPTXMlJaqILYLwqJu1vy?usp=sharing"
   ]
  },
  {
   "cell_type": "code",
   "execution_count": null,
   "metadata": {
    "id": "EPZhhJj3LD90"
   },
   "outputs": [],
   "source": [
    "!cp -r \"/content/drive/MyDrive/DO NOT DELETE/IEEE enetcom/data\" /content"
   ]
  },
  {
   "cell_type": "code",
   "execution_count": 1,
   "metadata": {},
   "outputs": [
    {
     "name": "stdout",
     "output_type": "stream",
     "text": [
      "Collecting opencv-python\n",
      "  Using cached opencv_python-4.5.5.64-cp36-abi3-win_amd64.whl (35.4 MB)\n",
      "Requirement already satisfied: matplotlib in c:\\users\\hhich\\anaconda3\\lib\\site-packages (3.4.3)\n",
      "Collecting sklearn\n",
      "  Using cached sklearn-0.0-py2.py3-none-any.whl\n",
      "Requirement already satisfied: numpy>=1.14.5 in c:\\users\\hhich\\anaconda3\\lib\\site-packages (from opencv-python) (1.20.3)\n",
      "Requirement already satisfied: pyparsing>=2.2.1 in c:\\users\\hhich\\anaconda3\\lib\\site-packages (from matplotlib) (3.0.4)\n",
      "Requirement already satisfied: python-dateutil>=2.7 in c:\\users\\hhich\\anaconda3\\lib\\site-packages (from matplotlib) (2.8.2)\n",
      "Requirement already satisfied: cycler>=0.10 in c:\\users\\hhich\\anaconda3\\lib\\site-packages (from matplotlib) (0.10.0)\n",
      "Requirement already satisfied: kiwisolver>=1.0.1 in c:\\users\\hhich\\anaconda3\\lib\\site-packages (from matplotlib) (1.3.1)\n",
      "Requirement already satisfied: pillow>=6.2.0 in c:\\users\\hhich\\anaconda3\\lib\\site-packages (from matplotlib) (8.4.0)\n",
      "Requirement already satisfied: scikit-learn in c:\\users\\hhich\\anaconda3\\lib\\site-packages (from sklearn) (0.24.2)\n",
      "Requirement already satisfied: six in c:\\users\\hhich\\anaconda3\\lib\\site-packages (from cycler>=0.10->matplotlib) (1.16.0)\n",
      "Requirement already satisfied: threadpoolctl>=2.0.0 in c:\\users\\hhich\\anaconda3\\lib\\site-packages (from scikit-learn->sklearn) (2.2.0)\n",
      "Requirement already satisfied: joblib>=0.11 in c:\\users\\hhich\\anaconda3\\lib\\site-packages (from scikit-learn->sklearn) (1.1.0)\n",
      "Requirement already satisfied: scipy>=0.19.1 in c:\\users\\hhich\\anaconda3\\lib\\site-packages (from scikit-learn->sklearn) (1.7.1)\n",
      "Installing collected packages: opencv-python, sklearn\n",
      "Successfully installed opencv-python-4.5.5.64 sklearn-0.0\n"
     ]
    }
   ],
   "source": [
    "!pip install opencv-python matplotlib sklearn"
   ]
  },
  {
   "cell_type": "code",
   "execution_count": 2,
   "metadata": {
    "id": "wOLWipAMLXF6"
   },
   "outputs": [],
   "source": [
    "import cv2\n",
    "import os \n",
    "import numpy as np\n",
    "import matplotlib.pyplot as plt\n",
    "from keras.preprocessing.image import ImageDataGenerator\n",
    "from sklearn.utils import class_weight \n",
    "from keras.layers import Input , Conv2D , BatchNormalization , MaxPooling2D , Dropout , Flatten , Dense , GlobalAveragePooling2D\n",
    "from keras.models import Sequential\n",
    "from keras.applications.mobilenet_v2 import MobileNetV2"
   ]
  },
  {
   "cell_type": "markdown",
   "metadata": {
    "id": "rsqbFitHEgkv"
   },
   "source": [
    "# loading the data from a folder to the code "
   ]
  },
  {
   "cell_type": "code",
   "execution_count": 2,
   "metadata": {
    "colab": {
     "base_uri": "https://localhost:8080/"
    },
    "id": "BZAgZ5s6MOHH",
    "outputId": "50c5d9a8-cc55-4e8a-c609-b51f31aff64f"
   },
   "outputs": [],
   "source": [
    "for parent,_,content in os.walk(\"data/yes\"):\n",
    "  for i in content : \n",
    "    p = os.path.join(parent,i)\n",
    "    img = cv2.imread(p)\n",
    "    gray = cv2.cvtColor(img,cv2.COLOR_BGR2GRAY)\n",
    "    img_normalized = gray /255\n",
    "    img_resized = cv2.resize(img,(630,630))\n",
    "    plt.imshow(img_resized,cmap='gray')\n",
    "    break"
   ]
  },
  {
   "cell_type": "code",
   "execution_count": 3,
   "metadata": {},
   "outputs": [],
   "source": [
    "parent = \"C:/Users/hhich/OneDrive/Desktop/folder/data\""
   ]
  },
  {
   "cell_type": "code",
   "execution_count": 4,
   "metadata": {
    "colab": {
     "base_uri": "https://localhost:8080/"
    },
    "id": "dwyIv-gePa_2",
    "outputId": "c6daa638-fa68-41ff-d190-921e12f29cd3"
   },
   "outputs": [
    {
     "name": "stdout",
     "output_type": "stream",
     "text": [
      "Found 203 images belonging to 2 classes.\n",
      "Found 50 images belonging to 2 classes.\n"
     ]
    }
   ],
   "source": [
    "train_datagen = ImageDataGenerator(rescale=1./255,\n",
    "                                     rotation_range=10,\n",
    "                                     width_shift_range=0.05,\n",
    "                                     height_shift_range=0.05,\n",
    "                                     zoom_range=0.05,\n",
    "                                     horizontal_flip=True, \n",
    "                                     vertical_flip=True,\n",
    "                                     brightness_range = [0.5, 1.4],\n",
    "                                     validation_split=0.2)\n",
    "\n",
    "train_generator = train_datagen.flow_from_directory(directory=parent,\n",
    "                                                    batch_size=10,\n",
    "                                                    target_size=(224, 224),\n",
    "                                                    shuffle = True,\n",
    "                                                    class_mode = \"binary\",\n",
    "                                                    subset = \"training\")\n",
    "\n",
    "validation_generator = train_datagen.flow_from_directory(directory=parent,\n",
    "                                                            batch_size=10,\n",
    "                                                            target_size=(224, 224),\n",
    "                                                            shuffle = False,\n",
    "                                                            class_mode = \"binary\",\n",
    "                                                            subset = \"validation\")"
   ]
  },
  {
   "cell_type": "markdown",
   "metadata": {
    "id": "JmrfNPE8fSIY"
   },
   "source": [
    "# creating the AI "
   ]
  },
  {
   "cell_type": "code",
   "execution_count": 5,
   "metadata": {
    "id": "FoUzYm47wLRj"
   },
   "outputs": [],
   "source": [
    "model = Sequential([ \n",
    "      Conv2D(filters = 64 , kernel_size = (3,3), activation=\"relu\", input_shape=(224,224,3)),\n",
    "      MaxPooling2D(pool_size = (3,3)),\n",
    "      Conv2D(filters = 32 , kernel_size = (3,3), activation=\"relu\"),\n",
    "      MaxPooling2D(pool_size = (3,3)),\n",
    "      Conv2D(filters = 32 , kernel_size = (3,3), activation=\"relu\"),\n",
    "      MaxPooling2D(pool_size = (3,3)),\n",
    "      Flatten(),\n",
    "      Dense(units = 512 , activation=\"relu\"),\n",
    "      Dropout(rate = 0.5),\n",
    "      Dense(units = 1 , activation=\"sigmoid\")\n",
    "  ])"
   ]
  },
  {
   "cell_type": "code",
   "execution_count": 6,
   "metadata": {
    "id": "FvY4MbZvwK9p"
   },
   "outputs": [],
   "source": [
    "import tensorflow as tf\n",
    "\n",
    "model.compile(optimizer = tf.optimizers.Adam(learning_rate = 0.00008),\n",
    "                loss = \"binary_crossentropy\",\n",
    "                metrics=[\"accuracy\"])"
   ]
  },
  {
   "cell_type": "code",
   "execution_count": null,
   "metadata": {
    "colab": {
     "base_uri": "https://localhost:8080/"
    },
    "id": "KEmF29JAkH6H",
    "outputId": "eed7fcd7-3c10-4645-af9d-0cbd513b0f63"
   },
   "outputs": [
    {
     "name": "stdout",
     "output_type": "stream",
     "text": [
      "Epoch 1/20\n"
     ]
    }
   ],
   "source": [
    "history1 = model.fit(train_generator,epochs = 20, validation_data = validation_generator )"
   ]
  },
  {
   "cell_type": "code",
   "execution_count": null,
   "metadata": {
    "colab": {
     "base_uri": "https://localhost:8080/"
    },
    "id": "OCgsLt3Foq4s",
    "outputId": "edc623ea-1d33-4e41-b210-dbdcdf5ea99a"
   },
   "outputs": [
    {
     "name": "stdout",
     "output_type": "stream",
     "text": [
      "5/5 [==============================] - 1s 168ms/step - loss: 0.5220 - accuracy: 0.7400\n"
     ]
    },
    {
     "data": {
      "text/plain": [
       "[0.5219982266426086, 0.7400000095367432]"
      ]
     },
     "execution_count": 8,
     "metadata": {},
     "output_type": "execute_result"
    }
   ],
   "source": [
    "model.evaluate(validation_generator)"
   ]
  },
  {
   "cell_type": "markdown",
   "metadata": {
    "id": "yzsBBKqvMrdU"
   },
   "source": [
    "# training the second model "
   ]
  },
  {
   "cell_type": "code",
   "execution_count": null,
   "metadata": {
    "colab": {
     "base_uri": "https://localhost:8080/"
    },
    "id": "-ErGTvlBKVf1",
    "outputId": "d3416b0a-809a-4c05-92d6-64a67fb875fb"
   },
   "outputs": [
    {
     "name": "stdout",
     "output_type": "stream",
     "text": [
      "Downloading data from https://storage.googleapis.com/tensorflow/keras-applications/mobilenet_v2/mobilenet_v2_weights_tf_dim_ordering_tf_kernels_1.0_224_no_top.h5\n",
      "9412608/9406464 [==============================] - 0s 0us/step\n",
      "9420800/9406464 [==============================] - 0s 0us/step\n"
     ]
    }
   ],
   "source": [
    "base_model = MobileNetV2(input_shape=(224,224,3),\n",
    "                                               include_top=False,\n",
    "                                               weights='imagenet')\n",
    "\n",
    "base_model.trainable = False\n",
    "\n",
    "model2 = tf.keras.Sequential([\n",
    "                              base_model,\n",
    "                              GlobalAveragePooling2D(),\n",
    "                              Dense(1024, activation = 'relu'),\n",
    "                              Dropout(rate = 0.2),\n",
    "                              Dense(1, activation='sigmoid')\n",
    "                            ])\n",
    "\n",
    "model2.compile(optimizer = tf.optimizers.Adam(learning_rate = 0.00008),\n",
    "                loss = \"binary_crossentropy\",\n",
    "                metrics=[\"accuracy\"])"
   ]
  },
  {
   "cell_type": "code",
   "execution_count": null,
   "metadata": {
    "colab": {
     "base_uri": "https://localhost:8080/"
    },
    "id": "-c-52osvKVcV",
    "outputId": "0b806aad-4284-4ac0-9f20-3f4d398c9897"
   },
   "outputs": [
    {
     "name": "stdout",
     "output_type": "stream",
     "text": [
      "Epoch 1/20\n",
      "21/21 [==============================] - 9s 258ms/step - loss: 0.6246 - accuracy: 0.6404 - val_loss: 0.4072 - val_accuracy: 0.8400\n",
      "Epoch 2/20\n",
      "21/21 [==============================] - 4s 206ms/step - loss: 0.4299 - accuracy: 0.8177 - val_loss: 0.3201 - val_accuracy: 0.8800\n",
      "Epoch 3/20\n",
      "21/21 [==============================] - 6s 298ms/step - loss: 0.3671 - accuracy: 0.8670 - val_loss: 0.3046 - val_accuracy: 0.9200\n",
      "Epoch 4/20\n",
      "21/21 [==============================] - 4s 203ms/step - loss: 0.3099 - accuracy: 0.9015 - val_loss: 0.2278 - val_accuracy: 0.9000\n",
      "Epoch 5/20\n",
      "21/21 [==============================] - 4s 204ms/step - loss: 0.3088 - accuracy: 0.8818 - val_loss: 0.2260 - val_accuracy: 0.9400\n",
      "Epoch 6/20\n",
      "21/21 [==============================] - 4s 204ms/step - loss: 0.2600 - accuracy: 0.9064 - val_loss: 0.2106 - val_accuracy: 0.9400\n",
      "Epoch 7/20\n",
      "21/21 [==============================] - 4s 208ms/step - loss: 0.2587 - accuracy: 0.9113 - val_loss: 0.2153 - val_accuracy: 0.9400\n",
      "Epoch 8/20\n",
      "21/21 [==============================] - 4s 207ms/step - loss: 0.2008 - accuracy: 0.9507 - val_loss: 0.1853 - val_accuracy: 0.9200\n",
      "Epoch 9/20\n",
      "21/21 [==============================] - 4s 205ms/step - loss: 0.2097 - accuracy: 0.9212 - val_loss: 0.1840 - val_accuracy: 0.9400\n",
      "Epoch 10/20\n",
      "21/21 [==============================] - 4s 206ms/step - loss: 0.2115 - accuracy: 0.9064 - val_loss: 0.1832 - val_accuracy: 0.9200\n",
      "Epoch 11/20\n",
      "21/21 [==============================] - 6s 282ms/step - loss: 0.1906 - accuracy: 0.9261 - val_loss: 0.1695 - val_accuracy: 0.9800\n",
      "Epoch 12/20\n",
      "21/21 [==============================] - 4s 204ms/step - loss: 0.1901 - accuracy: 0.9409 - val_loss: 0.2050 - val_accuracy: 0.9200\n",
      "Epoch 13/20\n",
      "21/21 [==============================] - 4s 205ms/step - loss: 0.1935 - accuracy: 0.9310 - val_loss: 0.1650 - val_accuracy: 0.9400\n",
      "Epoch 14/20\n",
      "21/21 [==============================] - 4s 207ms/step - loss: 0.1805 - accuracy: 0.9310 - val_loss: 0.1644 - val_accuracy: 0.9400\n",
      "Epoch 15/20\n",
      "21/21 [==============================] - 4s 207ms/step - loss: 0.1764 - accuracy: 0.9557 - val_loss: 0.1737 - val_accuracy: 0.9600\n",
      "Epoch 16/20\n",
      "21/21 [==============================] - 4s 209ms/step - loss: 0.1752 - accuracy: 0.9458 - val_loss: 0.1414 - val_accuracy: 0.9600\n",
      "Epoch 17/20\n",
      "21/21 [==============================] - 4s 205ms/step - loss: 0.1545 - accuracy: 0.9507 - val_loss: 0.1068 - val_accuracy: 0.9800\n",
      "Epoch 18/20\n",
      "21/21 [==============================] - 4s 204ms/step - loss: 0.1681 - accuracy: 0.9409 - val_loss: 0.1666 - val_accuracy: 0.9200\n",
      "Epoch 19/20\n",
      "21/21 [==============================] - 4s 205ms/step - loss: 0.1509 - accuracy: 0.9507 - val_loss: 0.2134 - val_accuracy: 0.9200\n",
      "Epoch 20/20\n",
      "21/21 [==============================] - 4s 208ms/step - loss: 0.1060 - accuracy: 0.9852 - val_loss: 0.1343 - val_accuracy: 0.9400\n"
     ]
    }
   ],
   "source": [
    "history2 = model2.fit(train_generator,epochs = 20, validation_data = validation_generator)"
   ]
  },
  {
   "cell_type": "code",
   "execution_count": null,
   "metadata": {
    "colab": {
     "base_uri": "https://localhost:8080/"
    },
    "id": "w92xAFBBMlLg",
    "outputId": "28dba4fd-de73-4138-fd95-7b9be05e1dfd"
   },
   "outputs": [
    {
     "name": "stdout",
     "output_type": "stream",
     "text": [
      "5/5 [==============================] - 1s 153ms/step - loss: 0.1551 - accuracy: 0.9600\n"
     ]
    },
    {
     "data": {
      "text/plain": [
       "[0.15514636039733887, 0.9599999785423279]"
      ]
     },
     "execution_count": 19,
     "metadata": {},
     "output_type": "execute_result"
    }
   ],
   "source": [
    "model2.evaluate(validation_generator)"
   ]
  },
  {
   "cell_type": "markdown",
   "metadata": {
    "id": "ckPsTbieNQLb"
   },
   "source": [
    "# checking the performance "
   ]
  },
  {
   "cell_type": "markdown",
   "metadata": {
    "id": "d1NH2D0pNURl"
   },
   "source": [
    "## accuracy "
   ]
  },
  {
   "cell_type": "code",
   "execution_count": null,
   "metadata": {
    "colab": {
     "base_uri": "https://localhost:8080/",
     "height": 295
    },
    "id": "6W5gX295KVZX",
    "outputId": "6dbdebb3-b23e-4820-d1bf-229981b54fc7"
   },
   "outputs": [
    {
     "data": {
      "image/png": "[encoded data removed]",
      "text/plain": [
       "<Figure size 432x288 with 1 Axes>"
      ]
     },
     "metadata": {
      "needs_background": "light"
     },
     "output_type": "display_data"
    }
   ],
   "source": [
    "plt.plot(history1.history['accuracy'])\n",
    "plt.plot(history1.history['val_accuracy'])\n",
    "plt.title('model 1 accuracy')\n",
    "plt.ylabel('accuracy')\n",
    "plt.xlabel('epoch')\n",
    "plt.legend(['train', 'test'])\n",
    "plt.show()"
   ]
  },
  {
   "cell_type": "code",
   "execution_count": null,
   "metadata": {
    "colab": {
     "base_uri": "https://localhost:8080/",
     "height": 295
    },
    "id": "abv88NOhKVWz",
    "outputId": "fca8c6ce-9f53-4c83-ee6d-f5592536808b"
   },
   "outputs": [
    {
     "data": {
      "image/png": "[encoded data removed]",
      "text/plain": [
       "<Figure size 432x288 with 1 Axes>"
      ]
     },
     "metadata": {
      "needs_background": "light"
     },
     "output_type": "display_data"
    }
   ],
   "source": [
    "plt.plot(history2.history['accuracy'])\n",
    "plt.plot(history2.history['val_accuracy'])\n",
    "plt.title('model 2 accuracy')\n",
    "plt.ylabel('accuracy')\n",
    "plt.xlabel('epoch')\n",
    "plt.legend(['train', 'test'])\n",
    "plt.show()"
   ]
  },
  {
   "cell_type": "markdown",
   "metadata": {
    "id": "rGVgjemUNnZl"
   },
   "source": [
    "## loss "
   ]
  },
  {
   "cell_type": "code",
   "execution_count": null,
   "metadata": {
    "colab": {
     "base_uri": "https://localhost:8080/",
     "height": 295
    },
    "id": "n-hetiu5M39l",
    "outputId": "0251ed29-7977-480d-a6bb-cac309ca36e6"
   },
   "outputs": [
    {
     "data": {
      "image/png": "[encoded data removed]",
      "text/plain": [
       "<Figure size 432x288 with 1 Axes>"
      ]
     },
     "metadata": {
      "needs_background": "light"
     },
     "output_type": "display_data"
    }
   ],
   "source": [
    "plt.plot(history1.history['loss'])\n",
    "plt.plot(history1.history['val_loss'])\n",
    "plt.title('model 1 loss')\n",
    "plt.ylabel('loss')\n",
    "plt.xlabel('epoch')\n",
    "plt.legend(['train', 'test'])\n",
    "plt.show()"
   ]
  },
  {
   "cell_type": "code",
   "execution_count": null,
   "metadata": {
    "colab": {
     "base_uri": "https://localhost:8080/",
     "height": 295
    },
    "id": "hib1xkSHNt6v",
    "outputId": "8415daa8-4376-41a0-b68e-09b5d05308fe"
   },
   "outputs": [
    {
     "data": {
      "image/png": "[encoded data removed]",
      "text/plain": [
       "<Figure size 432x288 with 1 Axes>"
      ]
     },
     "metadata": {
      "needs_background": "light"
     },
     "output_type": "display_data"
    }
   ],
   "source": [
    "plt.plot(history1.history['loss'])\n",
    "plt.plot(history1.history['val_loss'])\n",
    "plt.title('model 2 loss')\n",
    "plt.ylabel('loss')\n",
    "plt.xlabel('epoch')\n",
    "plt.legend(['train', 'test'])\n",
    "plt.show()"
   ]
  },
  {
   "cell_type": "code",
   "execution_count": null,
   "metadata": {
    "id": "i317M5xVN06T"
   },
   "outputs": [],
   "source": []
  }
 ],
 "metadata": {
  "accelerator": "GPU",
  "colab": {
   "collapsed_sections": [],
   "name": "ieee brain cancer detection with data augmentation s2.ipynb",
   "provenance": []
  },
  "interpreter": {
   "hash": "3013caa7bbfe886945f1923b15176c59c39362e8ade37539819517812aca9bcb"
  },
  "kernelspec": {
   "display_name": "Python 3 (ipykernel)",
   "language": "python",
   "name": "python3"
  },
  "language_info": {
   "codemirror_mode": {
    "name": "ipython",
    "version": 3
   },
   "file_extension": ".py",
   "mimetype": "text/x-python",
   "name": "python",
   "nbconvert_exporter": "python",
   "pygments_lexer": "ipython3",
   "version": "3.10.4"
  }
 },
 "nbformat": 4,
 "nbformat_minor": 1
}
