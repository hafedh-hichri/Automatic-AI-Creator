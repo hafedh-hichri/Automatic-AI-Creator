{
 "cells": [
  {
   "cell_type": "code",
   "execution_count": 1,
   "metadata": {},
   "outputs": [],
   "source": [
    "parent = \"C:/Users/hhich/OneDrive/Desktop/folder/data\""
   ]
  },
  {
   "cell_type": "code",
   "execution_count": 2,
   "metadata": {},
   "outputs": [],
   "source": [
    "import cv2\n",
    "import os\n",
    "import numpy as np\n",
    "import matplotlib.pyplot as plt\n",
    "from keras.preprocessing.image import ImageDataGenerator\n",
    "from sklearn.utils import class_weight\n",
    "from keras.layers import Input, Conv2D, BatchNormalization, MaxPooling2D, Dropout, Flatten, Dense, GlobalAveragePooling2D\n",
    "from keras.models import Sequential\n",
    "from keras.applications.mobilenet_v2 import MobileNetV2\n",
    "import tensorflow as tf \n"
   ]
  },
  {
   "cell_type": "code",
   "execution_count": 3,
   "metadata": {},
   "outputs": [],
   "source": [
    "# config = tf.compat.v1.ConfigProto()\n",
    "# config.gpu_options.allow_growth = True\n",
    "# sess = tf.compat.v1.Session(config=config)\n"
   ]
  },
  {
   "cell_type": "code",
   "execution_count": 4,
   "metadata": {},
   "outputs": [
    {
     "name": "stdout",
     "output_type": "stream",
     "text": [
      "Found 203 images belonging to 2 classes.\n",
      "Found 50 images belonging to 2 classes.\n"
     ]
    }
   ],
   "source": [
    "train_datagen = ImageDataGenerator(rescale=1./255,\n",
    "                                   rotation_range=10,\n",
    "                                   width_shift_range=0.05,\n",
    "                                   height_shift_range=0.05,\n",
    "                                   zoom_range=0.05,\n",
    "                                   horizontal_flip=True,\n",
    "                                   vertical_flip=True,\n",
    "                                   brightness_range=[0.5, 1.4],\n",
    "                                   validation_split=0.2)\n",
    "\n",
    "train_generator = train_datagen.flow_from_directory(directory=parent,\n",
    "                                                    batch_size=5,\n",
    "                                                    target_size=(224, 224),\n",
    "                                                    shuffle=True,\n",
    "                                                    class_mode=\"binary\",\n",
    "                                                    subset=\"training\")\n",
    "\n",
    "validation_generator = train_datagen.flow_from_directory(directory=parent,\n",
    "                                                         batch_size=5,\n",
    "                                                         target_size=(\n",
    "                                                             224, 224),\n",
    "                                                         shuffle=False,\n",
    "                                                         class_mode=\"binary\",\n",
    "                                                         subset=\"validation\")\n"
   ]
  },
  {
   "cell_type": "code",
   "execution_count": 5,
   "metadata": {},
   "outputs": [],
   "source": [
    "base_model = MobileNetV2(input_shape=(224, 224, 3),\n",
    "                         include_top=False,\n",
    "                         weights='imagenet')\n",
    "\n",
    "base_model.trainable = False\n",
    "\n",
    "model = tf.keras.Sequential([\n",
    "    base_model,\n",
    "    GlobalAveragePooling2D(),\n",
    "    Dense(1024, activation='relu'),\n",
    "    Dropout(rate=0.2),\n",
    "    Dense(1, activation='sigmoid')\n",
    "])\n",
    "\n",
    "model.compile(optimizer=tf.optimizers.Adam(learning_rate=0.00008),\n",
    "               loss=\"binary_crossentropy\",\n",
    "               metrics=[\"accuracy\"])\n"
   ]
  },
  {
   "cell_type": "code",
   "execution_count": 6,
   "metadata": {},
   "outputs": [
    {
     "name": "stdout",
     "output_type": "stream",
     "text": [
      "Epoch 1/20\n",
      "41/41 [==============================] - 11s 197ms/step - loss: 0.5570 - accuracy: 0.6847 - val_loss: 0.3559 - val_accuracy: 0.9000\n",
      "Epoch 2/20\n",
      "41/41 [==============================] - 6s 146ms/step - loss: 0.3648 - accuracy: 0.8916 - val_loss: 0.2687 - val_accuracy: 0.9200\n",
      "Epoch 3/20\n",
      "41/41 [==============================] - 5s 131ms/step - loss: 0.2973 - accuracy: 0.9064 - val_loss: 0.2219 - val_accuracy: 0.9200\n",
      "Epoch 4/20\n",
      "41/41 [==============================] - 5s 129ms/step - loss: 0.2953 - accuracy: 0.8867 - val_loss: 0.2363 - val_accuracy: 0.8800\n",
      "Epoch 5/20\n",
      "41/41 [==============================] - 6s 137ms/step - loss: 0.2677 - accuracy: 0.9064 - val_loss: 0.1812 - val_accuracy: 0.9400\n",
      "Epoch 6/20\n",
      "41/41 [==============================] - 6s 148ms/step - loss: 0.2118 - accuracy: 0.9310 - val_loss: 0.2137 - val_accuracy: 0.9200\n",
      "Epoch 7/20\n",
      "41/41 [==============================] - 6s 139ms/step - loss: 0.2368 - accuracy: 0.8966 - val_loss: 0.2151 - val_accuracy: 0.9200\n",
      "Epoch 8/20\n",
      "41/41 [==============================] - 5s 124ms/step - loss: 0.2069 - accuracy: 0.9212 - val_loss: 0.2375 - val_accuracy: 0.9000\n",
      "Epoch 9/20\n",
      "41/41 [==============================] - 5s 119ms/step - loss: 0.1851 - accuracy: 0.9310 - val_loss: 0.2123 - val_accuracy: 0.9000\n",
      "Epoch 10/20\n",
      "41/41 [==============================] - 5s 117ms/step - loss: 0.2193 - accuracy: 0.9212 - val_loss: 0.1587 - val_accuracy: 0.9200\n",
      "Epoch 11/20\n",
      "41/41 [==============================] - 5s 111ms/step - loss: 0.1598 - accuracy: 0.9360 - val_loss: 0.1725 - val_accuracy: 0.9400\n",
      "Epoch 12/20\n",
      "41/41 [==============================] - 5s 110ms/step - loss: 0.1708 - accuracy: 0.9458 - val_loss: 0.1464 - val_accuracy: 0.9600\n",
      "Epoch 13/20\n",
      "41/41 [==============================] - 4s 109ms/step - loss: 0.1150 - accuracy: 0.9606 - val_loss: 0.1925 - val_accuracy: 0.9000\n",
      "Epoch 14/20\n",
      "41/41 [==============================] - 5s 111ms/step - loss: 0.1805 - accuracy: 0.9310 - val_loss: 0.1139 - val_accuracy: 0.9600\n",
      "Epoch 15/20\n",
      "41/41 [==============================] - 5s 110ms/step - loss: 0.1500 - accuracy: 0.9458 - val_loss: 0.1766 - val_accuracy: 0.9600\n",
      "Epoch 16/20\n",
      "41/41 [==============================] - 5s 110ms/step - loss: 0.1179 - accuracy: 0.9704 - val_loss: 0.1431 - val_accuracy: 0.9600\n",
      "Epoch 17/20\n",
      "41/41 [==============================] - 5s 118ms/step - loss: 0.1257 - accuracy: 0.9507 - val_loss: 0.1918 - val_accuracy: 0.9000\n",
      "Epoch 18/20\n",
      "41/41 [==============================] - 5s 117ms/step - loss: 0.1286 - accuracy: 0.9606 - val_loss: 0.1927 - val_accuracy: 0.9000\n",
      "Epoch 19/20\n",
      "41/41 [==============================] - 5s 122ms/step - loss: 0.1139 - accuracy: 0.9557 - val_loss: 0.1504 - val_accuracy: 0.9400\n",
      "Epoch 20/20\n",
      "41/41 [==============================] - 5s 120ms/step - loss: 0.1159 - accuracy: 0.9606 - val_loss: 0.1534 - val_accuracy: 0.9600\n"
     ]
    }
   ],
   "source": [
    "history = model.fit(train_generator, epochs=20, \n",
    "                    batch_size=5 ,\n",
    "                    validation_data=validation_generator)\n"
   ]
  },
  {
   "cell_type": "code",
   "execution_count": 7,
   "metadata": {},
   "outputs": [
    {
     "name": "stdout",
     "output_type": "stream",
     "text": [
      "10/10 [==============================] - 1s 94ms/step - loss: 0.2168 - accuracy: 0.9000\n"
     ]
    },
    {
     "data": {
      "text/plain": [
       "[0.21679919958114624, 0.8999999761581421]"
      ]
     },
     "execution_count": 7,
     "metadata": {},
     "output_type": "execute_result"
    }
   ],
   "source": [
    "model.evaluate(validation_generator)"
   ]
  },
  {
   "cell_type": "code",
   "execution_count": 8,
   "metadata": {},
   "outputs": [
    {
     "data": {
      "image/png": "[encoded data removed]",
      "text/plain": [
       "<Figure size 432x288 with 1 Axes>"
      ]
     },
     "metadata": {
      "needs_background": "light"
     },
     "output_type": "display_data"
    }
   ],
   "source": [
    "plt.plot(history.history['accuracy'])\n",
    "plt.plot(history.history['val_accuracy'])\n",
    "plt.title('model 1 accuracy')\n",
    "plt.ylabel('accuracy')\n",
    "plt.xlabel('epoch')\n",
    "plt.legend(['train', 'test'])\n",
    "plt.show()\n"
   ]
  },
  {
   "cell_type": "code",
   "execution_count": 9,
   "metadata": {},
   "outputs": [
    {
     "data": {
      "image/png": "[encoded data removed]",
      "text/plain": [
       "<Figure size 432x288 with 1 Axes>"
      ]
     },
     "metadata": {
      "needs_background": "light"
     },
     "output_type": "display_data"
    }
   ],
   "source": [
    "plt.plot(history.history['loss'])\n",
    "plt.plot(history.history['val_loss'])\n",
    "plt.title('model 1 loss')\n",
    "plt.ylabel('loss')\n",
    "plt.xlabel('epoch')\n",
    "plt.legend(['train', 'test'])\n",
    "plt.show()\n"
   ]
  },
  {
   "cell_type": "code",
   "execution_count": 10,
   "metadata": {},
   "outputs": [
    {
     "name": "stdout",
     "output_type": "stream",
     "text": [
      "Please install GPU version of TF\n"
     ]
    }
   ],
   "source": [
    "import tensorflow as tf\n",
    "\n",
    "if tf.test.gpu_device_name():\n",
    "\n",
    "    print('Default GPU Device:{}'.format(tf.test.gpu_device_name()))\n",
    "\n",
    "else:\n",
    "\n",
    "   print(\"Please install GPU version of TF\")\n"
   ]
  },
  {
   "cell_type": "code",
   "execution_count": null,
   "metadata": {},
   "outputs": [],
   "source": []
  }
 ],
 "metadata": {
  "kernelspec": {
   "display_name": "Python 3.8.0 ('tensor')",
   "language": "python",
   "name": "python3"
  },
  "language_info": {
   "codemirror_mode": {
    "name": "ipython",
    "version": 3
   },
   "file_extension": ".py",
   "mimetype": "text/x-python",
   "name": "python",
   "nbconvert_exporter": "python",
   "pygments_lexer": "ipython3",
   "version": "3.8.0"
  },
  "vscode": {
   "interpreter": {
    "hash": "12c650643e16747a4475660a765421e87e5c4c2d62ec183f9a7fc3b37455d94e"
   }
  }
 },
 "nbformat": 4,
 "nbformat_minor": 2
}
